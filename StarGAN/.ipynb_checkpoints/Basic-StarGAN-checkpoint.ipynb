{
 "cells": [
  {
   "cell_type": "code",
   "execution_count": 1,
   "metadata": {
    "collapsed": true
   },
   "outputs": [],
   "source": [
    "import tensorflow as tf\n",
    "import numpy as np\n",
    "import matplotlib.gridspec as gridspec\n",
    "import matplotlib.pyplot as plot\n",
    "from tensorflow.examples.tutorials.mnist import input_data"
   ]
  },
  {
   "cell_type": "code",
   "execution_count": 2,
   "metadata": {
    "collapsed": true
   },
   "outputs": [],
   "source": [
    "batch_size = 32\n",
    "X_dim = 784\n",
    "c_dim = 10\n",
    "h_dim = 1024\n",
    "d_steps = 5\n",
    "lamda_cls = 0.1\n",
    "lamda_rec = 0.1"
   ]
  },
  {
   "cell_type": "code",
   "execution_count": 3,
   "metadata": {},
   "outputs": [
    {
     "name": "stdout",
     "output_type": "stream",
     "text": [
      "Extracting ../../MNIST_data/train-images-idx3-ubyte.gz\n",
      "Extracting ../../MNIST_data/train-labels-idx1-ubyte.gz\n",
      "Extracting ../../MNIST_data/t10k-images-idx3-ubyte.gz\n",
      "Extracting ../../MNIST_data/t10k-labels-idx1-ubyte.gz\n"
     ]
    }
   ],
   "source": [
    "mnist = input_data.read_data_sets('../../MNIST_data/', one_hot=True)"
   ]
  },
  {
   "cell_type": "code",
   "execution_count": 4,
   "metadata": {
    "collapsed": true
   },
   "outputs": [],
   "source": [
    "def plot_images(samples):\n",
    "    fig = plot.figure(figsize=(4, 4))\n",
    "    gs = gridspec.GridSpec(4, 4)\n",
    "    gs.update(wspace=0.05, hspace=0.05)\n",
    "\n",
    "    for i, sample in enumerate(samples):\n",
    "        ax = plot.subplot(gs[i])\n",
    "        plot.axis('off')\n",
    "        ax.set_xticklabels([])\n",
    "        ax.set_yticklabels([])\n",
    "        ax.set_aspect('equal')\n",
    "        plot.imshow(sample.reshape(28, 28), cmap='Greys_r')\n",
    "\n",
    "    return fig"
   ]
  },
  {
   "cell_type": "code",
   "execution_count": 5,
   "metadata": {
    "collapsed": true
   },
   "outputs": [],
   "source": [
    "def discriminator(X, reuse=False):\n",
    "    with tf.variable_scope(\"discriminator\", reuse=reuse):\n",
    "        h1 = tf.layers.dense(X, 1024, tf.nn.relu, name=\"disc_common\")\n",
    "\n",
    "        out_disc = tf.layers.dense(h1, 1, tf.nn.sigmoid, name=\"disc_disc\")\n",
    "        out_class = tf.layers.dense(h1, c_dim, tf.nn.softmax, name=\"disc_class\")\n",
    "\n",
    "        return out_disc, out_class"
   ]
  },
  {
   "cell_type": "code",
   "execution_count": 6,
   "metadata": {
    "collapsed": true
   },
   "outputs": [],
   "source": [
    "def generator(x, c, reuse=False):\n",
    "    with tf.variable_scope(\"generator\", reuse=reuse):\n",
    "        inp = tf.concat([x, c], axis=1)\n",
    "        h1 = tf.layers.dense(inp, 1024, tf.nn.relu, name=\"gen_h\")\n",
    "        out = tf.layers.dense(h1, 784, tf.nn.sigmoid, name=\"gen_out\")\n",
    "\n",
    "        return out"
   ]
  },
  {
   "cell_type": "code",
   "execution_count": 7,
   "metadata": {
    "collapsed": true
   },
   "outputs": [],
   "source": [
    "real_image = tf.placeholder(dtype=tf.float32, shape=[None, 784])\n",
    "real_labels = tf.placeholder(dtype=tf.float32, shape=[None, c_dim])\n",
    "fake_labels = tf.placeholder(dtype=tf.float32, shape=[None, c_dim])\n",
    "alpha = tf.placeholder(dtype=tf.float32, shape=[None, 1])"
   ]
  },
  {
   "cell_type": "code",
   "execution_count": 8,
   "metadata": {
    "collapsed": true
   },
   "outputs": [],
   "source": [
    "fake_image = generator(real_image, fake_labels, False)\n",
    "real_disc, real_class = discriminator(real_image)\n",
    "fake_disc, fake_class = discriminator(fake_image, True)\n",
    "rec_image = generator(fake_image, real_labels, True)\n",
    "interpolated = alpha * real_image + (1 - alpha) * fake_image\n",
    "int_disc, int_cls = discriminator(interpolated, True)"
   ]
  },
  {
   "cell_type": "code",
   "execution_count": 9,
   "metadata": {
    "collapsed": true
   },
   "outputs": [],
   "source": [
    "gen_loss_fake = tf.reduce_mean(fake_disc)\n",
    "gen_loss_rec = tf.reduce_mean(tf.abs(real_image - rec_image))\n",
    "gen_loss_class = tf.reduce_mean(tf.nn.sigmoid_cross_entropy_with_logits(logits=fake_class, labels=fake_labels))\n",
    "\n",
    "gen_loss = gen_loss_fake + lamda_rec * gen_loss_rec + lamda_cls * gen_loss_class"
   ]
  },
  {
   "cell_type": "code",
   "execution_count": 12,
   "metadata": {},
   "outputs": [],
   "source": [
    "disc_loss_real = tf.reduce_mean(real_disc)\n",
    "disc_loss_cls = tf.reduce_mean(tf.nn.sigmoid_cross_entropy_with_logits(logits=real_class, labels=real_labels))\n",
    "disc_loss_fake = tf.reduce_mean(fake_disc)\n",
    "\n",
    "grads = tf.gradients(int_disc, [interpolated])[0]\n",
    "slopes = tf.sqrt(tf.reduce_sum(tf.square(grads), axis=[1,]))\n",
    "grad_penalty = tf.reduce_mean(tf.square(slopes - 1.))\n",
    "    \n",
    "disc_loss = disc_loss_real + disc_loss_fake + 10 * grad_penalty + lamda_cls * disc_loss_cls"
   ]
  },
  {
   "cell_type": "code",
   "execution_count": 13,
   "metadata": {
    "collapsed": true
   },
   "outputs": [],
   "source": [
    "def generate_fake_label(batch_size):\n",
    "    idx = np.random.randint(0, 10)\n",
    "    c = np.zeros([batch_size, c_dim])\n",
    "    c[range(batch_size), idx] = 1\n",
    "    return c"
   ]
  },
  {
   "cell_type": "code",
   "execution_count": 14,
   "metadata": {
    "collapsed": true
   },
   "outputs": [],
   "source": [
    "def get_alpha(batch_size):\n",
    "    return np.random.rand(batch_size, 1)"
   ]
  },
  {
   "cell_type": "code",
   "execution_count": 15,
   "metadata": {},
   "outputs": [],
   "source": [
    "all_vars = tf.trainable_variables()\n",
    "generator_vars = [var for var in all_vars if var.name.startswith('gen')]\n",
    "discriminator_vars = [var for var in all_vars if var.name.startswith('disc')]\n",
    "\n",
    "d_optim = tf.train.AdamOptimizer(0.001).minimize(disc_loss, var_list=discriminator_vars)\n",
    "\n",
    "g_optim = tf.train.AdamOptimizer(0.001).minimize(gen_loss, var_list=generator_vars)"
   ]
  },
  {
   "cell_type": "code",
   "execution_count": 16,
   "metadata": {
    "collapsed": true
   },
   "outputs": [],
   "source": [
    "init = tf.global_variables_initializer()\n",
    "sess = tf.InteractiveSession()\n",
    "\n",
    "sess.run(init)"
   ]
  },
  {
   "cell_type": "code",
   "execution_count": 17,
   "metadata": {},
   "outputs": [
    {
     "name": "stdout",
     "output_type": "stream",
     "text": [
      "Epoch: 0, Iteration: 0: G: 0.13487723469734192 ; D: 9.201752662658691\n",
      "[ 0.  0.  0.  0.  0.  0.  0.  0.  1.  0.]\n"
     ]
    },
    {
     "data": {
      "image/png": "[encoded data removed]",
      "text/plain": [
       "<matplotlib.figure.Figure at 0x7f9ff40c8b38>"
      ]
     },
     "metadata": {},
     "output_type": "display_data"
    },
    {
     "name": "stdout",
     "output_type": "stream",
     "text": [
      "Epoch: 0, Iteration: 100: G: 0.2588425874710083 ; D: 0.4168393015861511\n",
      "Epoch: 0, Iteration: 200: G: 0.27990955114364624 ; D: 0.3635450005531311\n",
      "Epoch: 0, Iteration: 300: G: 0.2598268985748291 ; D: 0.6718804240226746\n",
      "Epoch: 0, Iteration: 400: G: 0.2355635166168213 ; D: 0.3573453426361084\n",
      "Epoch: 0, Iteration: 500: G: 0.24771808087825775 ; D: 0.6771054267883301\n",
      "Epoch: 0, Iteration: 600: G: 0.24998793005943298 ; D: 0.4376121461391449\n",
      "Epoch: 0, Iteration: 700: G: 0.19189238548278809 ; D: 0.4668414890766144\n",
      "Epoch: 0, Iteration: 800: G: 0.183781236410141 ; D: 0.31894221901893616\n",
      "Epoch: 0, Iteration: 900: G: 0.16885492205619812 ; D: 0.3007494807243347\n",
      "Epoch: 0, Iteration: 1000: G: 0.1738828420639038 ; D: 0.2302471399307251\n",
      "[ 0.  0.  0.  0.  0.  0.  0.  0.  0.  1.]\n"
     ]
    },
    {
     "data": {
      "image/png": "[encoded data removed]",
      "text/plain": [
       "<matplotlib.figure.Figure at 0x7f9fecf24860>"
      ]
     },
     "metadata": {},
     "output_type": "display_data"
    },
    {
     "name": "stdout",
     "output_type": "stream",
     "text": [
      "Epoch: 0, Iteration: 1100: G: 0.16054880619049072 ; D: 0.22475583851337433\n",
      "Epoch: 0, Iteration: 1200: G: 0.16070401668548584 ; D: 0.23705439269542694\n",
      "Epoch: 0, Iteration: 1300: G: 0.16079148650169373 ; D: 0.22788238525390625\n",
      "Epoch: 0, Iteration: 1400: G: 0.1492605209350586 ; D: 0.2251870036125183\n",
      "Epoch: 0, Iteration: 1500: G: 0.13848280906677246 ; D: 0.1709289848804474\n",
      "Epoch: 1, Iteration: 0: G: 0.14108791947364807 ; D: 0.16756519675254822\n",
      "[ 0.  0.  1.  0.  0.  0.  0.  0.  0.  0.]\n"
     ]
    },
    {
     "data": {
      "image/png": "[encoded data removed]",
      "text/plain": [
       "<matplotlib.figure.Figure at 0x7f9fe0435e48>"
      ]
     },
     "metadata": {},
     "output_type": "display_data"
    },
    {
     "name": "stdout",
     "output_type": "stream",
     "text": [
      "Epoch: 1, Iteration: 100: G: 0.14359688758850098 ; D: 0.273889422416687\n",
      "Epoch: 1, Iteration: 200: G: 0.1441705822944641 ; D: 0.21143800020217896\n",
      "Epoch: 1, Iteration: 300: G: 0.1372845619916916 ; D: 0.152399480342865\n",
      "Epoch: 1, Iteration: 400: G: 0.14393284916877747 ; D: 0.2896665334701538\n",
      "Epoch: 1, Iteration: 500: G: 0.13910675048828125 ; D: 0.16230419278144836\n",
      "Epoch: 1, Iteration: 600: G: 0.13588914275169373 ; D: 0.16534049808979034\n",
      "Epoch: 1, Iteration: 700: G: 0.1328495740890503 ; D: 0.17286427319049835\n",
      "Epoch: 1, Iteration: 800: G: 0.12039997428655624 ; D: 0.1826855093240738\n",
      "Epoch: 1, Iteration: 900: G: 0.12753106653690338 ; D: 0.1369698941707611\n",
      "Epoch: 1, Iteration: 1000: G: 0.12052032351493835 ; D: 0.14673066139221191\n",
      "[ 1.  0.  0.  0.  0.  0.  0.  0.  0.  0.]\n"
     ]
    },
    {
     "data": {
      "image/png": "[encoded data removed]",
      "text/plain": [
       "<matplotlib.figure.Figure at 0x7f9fdff4aef0>"
      ]
     },
     "metadata": {},
     "output_type": "display_data"
    },
    {
     "name": "stdout",
     "output_type": "stream",
     "text": [
      "Epoch: 1, Iteration: 1100: G: 0.11992821842432022 ; D: 0.14759501814842224\n",
      "Epoch: 1, Iteration: 1200: G: 0.1198778748512268 ; D: 0.14291144907474518\n",
      "Epoch: 1, Iteration: 1300: G: 0.12015235424041748 ; D: 0.17088346183300018\n",
      "Epoch: 1, Iteration: 1400: G: 0.10418274253606796 ; D: 0.1838998794555664\n",
      "Epoch: 1, Iteration: 1500: G: 0.12042677402496338 ; D: 0.15382853150367737\n",
      "Epoch: 2, Iteration: 0: G: 0.11625567078590393 ; D: 0.13476604223251343\n",
      "[ 0.  0.  0.  0.  0.  0.  0.  1.  0.  0.]\n"
     ]
    },
    {
     "data": {
      "image/png": "[encoded data removed]",
      "text/plain": [
       "<matplotlib.figure.Figure at 0x7f9ff084c320>"
      ]
     },
     "metadata": {},
     "output_type": "display_data"
    },
    {
     "name": "stdout",
     "output_type": "stream",
     "text": [
      "Epoch: 2, Iteration: 100: G: 0.11963539570569992 ; D: 0.25003743171691895\n",
      "Epoch: 2, Iteration: 200: G: 0.11700845509767532 ; D: 0.12402863800525665\n",
      "Epoch: 2, Iteration: 300: G: 0.1185624748468399 ; D: 0.14589039981365204\n",
      "Epoch: 2, Iteration: 400: G: 0.11603006720542908 ; D: 0.13760948181152344\n",
      "Epoch: 2, Iteration: 500: G: 0.10599614679813385 ; D: 0.1395970731973648\n",
      "Epoch: 2, Iteration: 600: G: 0.11620516330003738 ; D: 0.12016334384679794\n",
      "Epoch: 2, Iteration: 700: G: 0.1147652342915535 ; D: 0.13224926590919495\n",
      "Epoch: 2, Iteration: 800: G: 0.10344180464744568 ; D: 0.13794180750846863\n",
      "Epoch: 2, Iteration: 900: G: 0.11316560208797455 ; D: 0.18596218526363373\n",
      "Epoch: 2, Iteration: 1000: G: 0.11064773797988892 ; D: 0.1608220636844635\n",
      "[ 0.  0.  0.  1.  0.  0.  0.  0.  0.  0.]\n"
     ]
    },
    {
     "data": {
      "image/png": "[encoded data removed]",
      "text/plain": [
       "<matplotlib.figure.Figure at 0x7f9ff1706400>"
      ]
     },
     "metadata": {},
     "output_type": "display_data"
    },
    {
     "name": "stdout",
     "output_type": "stream",
     "text": [
      "Epoch: 2, Iteration: 1100: G: 0.11037732660770416 ; D: 0.12181369960308075\n",
      "Epoch: 2, Iteration: 1200: G: 0.10054294764995575 ; D: 0.12093731015920639\n",
      "Epoch: 2, Iteration: 1300: G: 0.10635358095169067 ; D: 0.13175779581069946\n",
      "Epoch: 2, Iteration: 1400: G: 0.10556277632713318 ; D: 0.12261240929365158\n",
      "Epoch: 2, Iteration: 1500: G: 0.10514256358146667 ; D: 0.1207965612411499\n",
      "Epoch: 3, Iteration: 0: G: 0.10598907619714737 ; D: 0.1578342318534851\n",
      "[ 0.  0.  1.  0.  0.  0.  0.  0.  0.  0.]\n"
     ]
    },
    {
     "data": {
      "image/png": "[encoded data removed]",
      "text/plain": [
       "<matplotlib.figure.Figure at 0x7f9fe0243cc0>"
      ]
     },
     "metadata": {},
     "output_type": "display_data"
    },
    {
     "name": "stdout",
     "output_type": "stream",
     "text": [
      "Epoch: 3, Iteration: 100: G: 0.10614840686321259 ; D: 0.11798535287380219\n",
      "Epoch: 3, Iteration: 200: G: 0.10728970170021057 ; D: 0.1259777545928955\n",
      "Epoch: 3, Iteration: 300: G: 0.1065099760890007 ; D: 0.11986362189054489\n",
      "Epoch: 3, Iteration: 400: G: 0.09832490980625153 ; D: 0.12096892297267914\n",
      "Epoch: 3, Iteration: 500: G: 0.1055329293012619 ; D: 0.11105398833751678\n",
      "Epoch: 3, Iteration: 600: G: 0.09860418736934662 ; D: 0.10503323376178741\n",
      "Epoch: 3, Iteration: 700: G: 0.10608851164579391 ; D: 0.11344808340072632\n",
      "Epoch: 3, Iteration: 800: G: 0.10476067662239075 ; D: 0.1363741159439087\n",
      "Epoch: 3, Iteration: 900: G: 0.0989917516708374 ; D: 0.17938707768917084\n",
      "Epoch: 3, Iteration: 1000: G: 0.10450658947229385 ; D: 0.13352949917316437\n",
      "[ 0.  0.  0.  1.  0.  0.  0.  0.  0.  0.]\n"
     ]
    },
    {
     "data": {
      "image/png": "[encoded data removed]",
      "text/plain": [
       "<matplotlib.figure.Figure at 0x7f9fe27e7f60>"
      ]
     },
     "metadata": {},
     "output_type": "display_data"
    },
    {
     "ename": "KeyboardInterrupt",
     "evalue": "",
     "output_type": "error",
     "traceback": [
      "\u001b[0;31m---------------------------------------------------------------------------\u001b[0m",
      "\u001b[0;31mKeyboardInterrupt\u001b[0m                         Traceback (most recent call last)",
      "\u001b[0;32m<ipython-input-17-ac4dbb72d40f>\u001b[0m in \u001b[0;36m<module>\u001b[0;34m()\u001b[0m\n\u001b[1;32m      7\u001b[0m                 \u001b[0mreal_labels\u001b[0m\u001b[0;34m:\u001b[0m \u001b[0my_batch\u001b[0m\u001b[0;34m,\u001b[0m\u001b[0;34m\u001b[0m\u001b[0m\n\u001b[1;32m      8\u001b[0m                 \u001b[0mfake_labels\u001b[0m\u001b[0;34m:\u001b[0m \u001b[0mgenerate_fake_label\u001b[0m\u001b[0;34m(\u001b[0m\u001b[0;36m32\u001b[0m\u001b[0;34m)\u001b[0m\u001b[0;34m,\u001b[0m\u001b[0;34m\u001b[0m\u001b[0m\n\u001b[0;32m----> 9\u001b[0;31m                 \u001b[0malpha\u001b[0m\u001b[0;34m:\u001b[0m \u001b[0mget_alpha\u001b[0m\u001b[0;34m(\u001b[0m\u001b[0;36m32\u001b[0m\u001b[0;34m)\u001b[0m\u001b[0;34m\u001b[0m\u001b[0m\n\u001b[0m\u001b[1;32m     10\u001b[0m             })\n\u001b[1;32m     11\u001b[0m \u001b[0;34m\u001b[0m\u001b[0m\n",
      "\u001b[0;32m/home/moksh/.local/lib/python3.5/site-packages/tensorflow/python/client/session.py\u001b[0m in \u001b[0;36mrun\u001b[0;34m(self, fetches, feed_dict, options, run_metadata)\u001b[0m\n\u001b[1;32m    893\u001b[0m     \u001b[0;32mtry\u001b[0m\u001b[0;34m:\u001b[0m\u001b[0;34m\u001b[0m\u001b[0m\n\u001b[1;32m    894\u001b[0m       result = self._run(None, fetches, feed_dict, options_ptr,\n\u001b[0;32m--> 895\u001b[0;31m                          run_metadata_ptr)\n\u001b[0m\u001b[1;32m    896\u001b[0m       \u001b[0;32mif\u001b[0m \u001b[0mrun_metadata\u001b[0m\u001b[0;34m:\u001b[0m\u001b[0;34m\u001b[0m\u001b[0m\n\u001b[1;32m    897\u001b[0m         \u001b[0mproto_data\u001b[0m \u001b[0;34m=\u001b[0m \u001b[0mtf_session\u001b[0m\u001b[0;34m.\u001b[0m\u001b[0mTF_GetBuffer\u001b[0m\u001b[0;34m(\u001b[0m\u001b[0mrun_metadata_ptr\u001b[0m\u001b[0;34m)\u001b[0m\u001b[0;34m\u001b[0m\u001b[0m\n",
      "\u001b[0;32m/home/moksh/.local/lib/python3.5/site-packages/tensorflow/python/client/session.py\u001b[0m in \u001b[0;36m_run\u001b[0;34m(self, handle, fetches, feed_dict, options, run_metadata)\u001b[0m\n\u001b[1;32m   1122\u001b[0m     \u001b[0;32mif\u001b[0m \u001b[0mfinal_fetches\u001b[0m \u001b[0;32mor\u001b[0m \u001b[0mfinal_targets\u001b[0m \u001b[0;32mor\u001b[0m \u001b[0;34m(\u001b[0m\u001b[0mhandle\u001b[0m \u001b[0;32mand\u001b[0m \u001b[0mfeed_dict_tensor\u001b[0m\u001b[0;34m)\u001b[0m\u001b[0;34m:\u001b[0m\u001b[0;34m\u001b[0m\u001b[0m\n\u001b[1;32m   1123\u001b[0m       results = self._do_run(handle, final_targets, final_fetches,\n\u001b[0;32m-> 1124\u001b[0;31m                              feed_dict_tensor, options, run_metadata)\n\u001b[0m\u001b[1;32m   1125\u001b[0m     \u001b[0;32melse\u001b[0m\u001b[0;34m:\u001b[0m\u001b[0;34m\u001b[0m\u001b[0m\n\u001b[1;32m   1126\u001b[0m       \u001b[0mresults\u001b[0m \u001b[0;34m=\u001b[0m \u001b[0;34m[\u001b[0m\u001b[0;34m]\u001b[0m\u001b[0;34m\u001b[0m\u001b[0m\n",
      "\u001b[0;32m/home/moksh/.local/lib/python3.5/site-packages/tensorflow/python/client/session.py\u001b[0m in \u001b[0;36m_do_run\u001b[0;34m(self, handle, target_list, fetch_list, feed_dict, options, run_metadata)\u001b[0m\n\u001b[1;32m   1319\u001b[0m     \u001b[0;32mif\u001b[0m \u001b[0mhandle\u001b[0m \u001b[0;32mis\u001b[0m \u001b[0;32mNone\u001b[0m\u001b[0;34m:\u001b[0m\u001b[0;34m\u001b[0m\u001b[0m\n\u001b[1;32m   1320\u001b[0m       return self._do_call(_run_fn, self._session, feeds, fetches, targets,\n\u001b[0;32m-> 1321\u001b[0;31m                            options, run_metadata)\n\u001b[0m\u001b[1;32m   1322\u001b[0m     \u001b[0;32melse\u001b[0m\u001b[0;34m:\u001b[0m\u001b[0;34m\u001b[0m\u001b[0m\n\u001b[1;32m   1323\u001b[0m       \u001b[0;32mreturn\u001b[0m \u001b[0mself\u001b[0m\u001b[0;34m.\u001b[0m\u001b[0m_do_call\u001b[0m\u001b[0;34m(\u001b[0m\u001b[0m_prun_fn\u001b[0m\u001b[0;34m,\u001b[0m \u001b[0mself\u001b[0m\u001b[0;34m.\u001b[0m\u001b[0m_session\u001b[0m\u001b[0;34m,\u001b[0m \u001b[0mhandle\u001b[0m\u001b[0;34m,\u001b[0m \u001b[0mfeeds\u001b[0m\u001b[0;34m,\u001b[0m \u001b[0mfetches\u001b[0m\u001b[0;34m)\u001b[0m\u001b[0;34m\u001b[0m\u001b[0m\n",
      "\u001b[0;32m/home/moksh/.local/lib/python3.5/site-packages/tensorflow/python/client/session.py\u001b[0m in \u001b[0;36m_do_call\u001b[0;34m(self, fn, *args)\u001b[0m\n\u001b[1;32m   1325\u001b[0m   \u001b[0;32mdef\u001b[0m \u001b[0m_do_call\u001b[0m\u001b[0;34m(\u001b[0m\u001b[0mself\u001b[0m\u001b[0;34m,\u001b[0m \u001b[0mfn\u001b[0m\u001b[0;34m,\u001b[0m \u001b[0;34m*\u001b[0m\u001b[0margs\u001b[0m\u001b[0;34m)\u001b[0m\u001b[0;34m:\u001b[0m\u001b[0;34m\u001b[0m\u001b[0m\n\u001b[1;32m   1326\u001b[0m     \u001b[0;32mtry\u001b[0m\u001b[0;34m:\u001b[0m\u001b[0;34m\u001b[0m\u001b[0m\n\u001b[0;32m-> 1327\u001b[0;31m       \u001b[0;32mreturn\u001b[0m \u001b[0mfn\u001b[0m\u001b[0;34m(\u001b[0m\u001b[0;34m*\u001b[0m\u001b[0margs\u001b[0m\u001b[0;34m)\u001b[0m\u001b[0;34m\u001b[0m\u001b[0m\n\u001b[0m\u001b[1;32m   1328\u001b[0m     \u001b[0;32mexcept\u001b[0m \u001b[0merrors\u001b[0m\u001b[0;34m.\u001b[0m\u001b[0mOpError\u001b[0m \u001b[0;32mas\u001b[0m \u001b[0me\u001b[0m\u001b[0;34m:\u001b[0m\u001b[0;34m\u001b[0m\u001b[0m\n\u001b[1;32m   1329\u001b[0m       \u001b[0mmessage\u001b[0m \u001b[0;34m=\u001b[0m \u001b[0mcompat\u001b[0m\u001b[0;34m.\u001b[0m\u001b[0mas_text\u001b[0m\u001b[0;34m(\u001b[0m\u001b[0me\u001b[0m\u001b[0;34m.\u001b[0m\u001b[0mmessage\u001b[0m\u001b[0;34m)\u001b[0m\u001b[0;34m\u001b[0m\u001b[0m\n",
      "\u001b[0;32m/home/moksh/.local/lib/python3.5/site-packages/tensorflow/python/client/session.py\u001b[0m in \u001b[0;36m_run_fn\u001b[0;34m(session, feed_dict, fetch_list, target_list, options, run_metadata)\u001b[0m\n\u001b[1;32m   1304\u001b[0m           return tf_session.TF_Run(session, options,\n\u001b[1;32m   1305\u001b[0m                                    \u001b[0mfeed_dict\u001b[0m\u001b[0;34m,\u001b[0m \u001b[0mfetch_list\u001b[0m\u001b[0;34m,\u001b[0m \u001b[0mtarget_list\u001b[0m\u001b[0;34m,\u001b[0m\u001b[0;34m\u001b[0m\u001b[0m\n\u001b[0;32m-> 1306\u001b[0;31m                                    status, run_metadata)\n\u001b[0m\u001b[1;32m   1307\u001b[0m \u001b[0;34m\u001b[0m\u001b[0m\n\u001b[1;32m   1308\u001b[0m     \u001b[0;32mdef\u001b[0m \u001b[0m_prun_fn\u001b[0m\u001b[0;34m(\u001b[0m\u001b[0msession\u001b[0m\u001b[0;34m,\u001b[0m \u001b[0mhandle\u001b[0m\u001b[0;34m,\u001b[0m \u001b[0mfeed_dict\u001b[0m\u001b[0;34m,\u001b[0m \u001b[0mfetch_list\u001b[0m\u001b[0;34m)\u001b[0m\u001b[0;34m:\u001b[0m\u001b[0;34m\u001b[0m\u001b[0m\n",
      "\u001b[0;31mKeyboardInterrupt\u001b[0m: "
     ]
    }
   ],
   "source": [
    "for epoch in range(10):\n",
    "    for it in range(50000 // 32):\n",
    "        for i in range(d_steps):\n",
    "            x_batch, y_batch = mnist.train.next_batch(32)\n",
    "            _, d_loss = sess.run([d_optim, disc_loss], feed_dict={\n",
    "                real_image: x_batch,\n",
    "                real_labels: y_batch,\n",
    "                fake_labels: generate_fake_label(32),\n",
    "                alpha: get_alpha(32)\n",
    "            })\n",
    "            \n",
    "        x_batch, y_batch = mnist.train.next_batch(32)\n",
    "        _, g_loss = sess.run([g_optim, gen_loss], feed_dict={\n",
    "            real_image: x_batch,\n",
    "            real_labels: y_batch,\n",
    "            fake_labels: generate_fake_label(32),\n",
    "        })\n",
    "        if it % 100 == 0:\n",
    "            print('Epoch: {}, Iteration: {}: G: {} ; D: {}'.format(epoch, it, g_loss, d_loss))\n",
    "        \n",
    "\n",
    "            if it % 1000 == 0:\n",
    "                x_batch, y_batch = mnist.train.next_batch(16)\n",
    "        \n",
    "                c = generate_fake_label(16)\n",
    "                print(c[0])\n",
    "                samples = sess.run(fake_image, feed_dict={\n",
    "                    real_image: x_batch,\n",
    "                    fake_labels: c\n",
    "                })\n",
    "\n",
    "                fig = plot_images(samples)\n",
    "                plot.show()\n",
    "                plot.close(fig)\n"
   ]
  },
  {
   "cell_type": "code",
   "execution_count": null,
   "metadata": {
    "collapsed": true
   },
   "outputs": [],
   "source": []
  }
 ],
 "metadata": {
  "kernelspec": {
   "display_name": "Python 3",
   "language": "python",
   "name": "python3"
  },
  "language_info": {
   "codemirror_mode": {
    "name": "ipython",
    "version": 3
   },
   "file_extension": ".py",
   "mimetype": "text/x-python",
   "name": "python",
   "nbconvert_exporter": "python",
   "pygments_lexer": "ipython3",
   "version": "3.5.2"
  }
 },
 "nbformat": 4,
 "nbformat_minor": 2
}
