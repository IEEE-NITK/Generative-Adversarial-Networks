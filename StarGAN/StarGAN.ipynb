{
 "cells": [
  {
   "cell_type": "code",
   "execution_count": 1,
   "metadata": {
    "collapsed": true
   },
   "outputs": [],
   "source": [
    "import tensorflow as tf\n",
    "import numpy as np\n",
    "import matplotlib.gridspec as gridspec\n",
    "import matplotlib.pyplot as plot\n",
    "from tensorflow.examples.tutorials.mnist import input_data\n",
    "from helper import *"
   ]
  },
  {
   "cell_type": "code",
   "execution_count": 2,
   "metadata": {
    "collapsed": true
   },
   "outputs": [],
   "source": [
    "batch_size = 32\n",
    "X_dim = 784\n",
    "c_dim = 10\n",
    "h_dim = 1024\n",
    "d_steps = 5\n",
    "lamda_cls = 0.1\n",
    "lamda_rec = 0.1"
   ]
  },
  {
   "cell_type": "code",
   "execution_count": 3,
   "metadata": {},
   "outputs": [
    {
     "name": "stdout",
     "output_type": "stream",
     "text": [
      "Extracting ../../MNIST_data/train-images-idx3-ubyte.gz\n",
      "Extracting ../../MNIST_data/train-labels-idx1-ubyte.gz\n",
      "Extracting ../../MNIST_data/t10k-images-idx3-ubyte.gz\n",
      "Extracting ../../MNIST_data/t10k-labels-idx1-ubyte.gz\n"
     ]
    }
   ],
   "source": [
    "mnist = input_data.read_data_sets('../../MNIST_data/', one_hot=True)"
   ]
  },
  {
   "cell_type": "code",
   "execution_count": 4,
   "metadata": {
    "collapsed": true
   },
   "outputs": [],
   "source": [
    "def plot_images(samples):\n",
    "    fig = plot.figure(figsize=(4, 4))\n",
    "    gs = gridspec.GridSpec(4, 4)\n",
    "    gs.update(wspace=0.05, hspace=0.05)\n",
    "\n",
    "    for i, sample in enumerate(samples):\n",
    "        ax = plot.subplot(gs[i])\n",
    "        plot.axis('off')\n",
    "        ax.set_xticklabels([])\n",
    "        ax.set_yticklabels([])\n",
    "        ax.set_aspect('equal')\n",
    "        plot.imshow(sample.reshape(28, 28), cmap='Greys_r')\n",
    "\n",
    "    return fig"
   ]
  },
  {
   "cell_type": "code",
   "execution_count": 5,
   "metadata": {},
   "outputs": [],
   "source": [
    "test = tf.placeholder(dtype=tf.float32, shape=[None, 1, 1, 10])"
   ]
  },
  {
   "cell_type": "code",
   "execution_count": 6,
   "metadata": {},
   "outputs": [
    {
     "data": {
      "text/plain": [
       "TensorShape([Dimension(None), Dimension(28), Dimension(28), Dimension(10)])"
      ]
     },
     "execution_count": 6,
     "metadata": {},
     "output_type": "execute_result"
    }
   ],
   "source": [
    "tf.tile(test,multiples=[1, 28, 28, 1]).shape"
   ]
  },
  {
   "cell_type": "code",
   "execution_count": 7,
   "metadata": {
    "collapsed": true
   },
   "outputs": [],
   "source": [
    "def discriminator(x, reuse=False):\n",
    "    with tf.variable_scope(\"discriminator\"):\n",
    "        if reuse:\n",
    "            tf.get_variable_scope().reuse_variables()\n",
    "        else:\n",
    "            assert tf.get_variable_scope().reuse is False\n",
    "        \n",
    "        x = tf.reshape(x, [-1, 28, 28, 1])\n",
    "        print(x.get_shape())\n",
    "        \n",
    "        x = lrelu(conv2d(x, 64, kernel_size=4, strides=[1, 2, 2, 1], name='disc_conv_1'))\n",
    "        print(x.get_shape())\n",
    "        x = lrelu(conv2d(x, 128, kernel_size=4, strides=[1, 2, 2, 1], name='disc_conv_2'))\n",
    "        print(x.get_shape())\n",
    "        x = lrelu(conv2d(x, 256, kernel_size=4, strides=[1, 2, 2, 1], name='disc_conv_3'))\n",
    "        print(x.get_shape())\n",
    "        \n",
    "        x = conv2d(x, 1+10, kernel_size=1, strides=[1, 1, 1, 1], name='disc_conv_4')\n",
    "        print(x.get_shape())\n",
    "        x = tf.reshape(tf.reduce_mean(x,axis=[1, 2]), [-1, 1 + 10])\n",
    "        print(x.get_shape())\n",
    "        src = x[:,0]\n",
    "        cls = x[:,1:]\n",
    "        return src, cls"
   ]
  },
  {
   "cell_type": "code",
   "execution_count": 8,
   "metadata": {
    "collapsed": true
   },
   "outputs": [],
   "source": [
    "def generator(x, c, reuse=False):\n",
    "    with tf.variable_scope(\"generator\"):\n",
    "        if reuse:\n",
    "            tf.get_variable_scope().reuse_variables()\n",
    "        else:\n",
    "            assert tf.get_variable_scope().reuse is False\n",
    "        \n",
    "        c = tf.tile(tf.reshape(c, [32, 1, 1, 10]), multiples=[1, 28, 28, 1])\n",
    "        x = tf.reshape(x, [32, 28, 28, 1])\n",
    "        x = tf.concat([x, c], axis=3)\n",
    "        print(x.get_shape())\n",
    "        \n",
    "        x = relu(instance_norm(conv2d(x, 64, kernel_size=7, strides=[1, 1, 1, 1], \n",
    "                                      name='gen_ds_conv1'), 'in1_1'))\n",
    "        print(x.get_shape())\n",
    "        x = relu(instance_norm(conv2d(x, 128, kernel_size=4,strides=[1, 2, 2, 1], \n",
    "                                      name='gen_ds_conv2'), 'in1_2'))\n",
    "        print(x.get_shape())\n",
    "        x = relu(instance_norm(conv2d(x, 256, kernel_size=4, strides=[1, 2, 2, 1], \n",
    "                                      name='gen_ds_conv3'), 'in1_3'))\n",
    "        print(x.get_shape())\n",
    "        \n",
    "        x = relu(instance_norm(conv2d(x, 256, kernel_size=3, strides=[1, 1, 1, 1], \n",
    "                                      name='gen_bn_conv1'), 'in2_1'))\n",
    "        print(x.get_shape())\n",
    "        x = relu(instance_norm(conv2d(x, 256, kernel_size=3, strides=[1, 1, 1, 1], \n",
    "                                      name='gen_bn_conv2'), 'in2_2'))\n",
    "        print(x.get_shape())\n",
    "        x = relu(instance_norm(conv2d(x, 256, kernel_size=3, strides=[1, 1, 1, 1], \n",
    "                                      name='gen_bn_conv3'), 'in2_3'))\n",
    "        print(x.get_shape())\n",
    "        \n",
    "        x = relu(instance_norm(deconv_2d(x, [32, 14, 14, 128], kernel_size=4, strides=[1, 2, 2, 1], \n",
    "                                        name='gen_us_deconv1'), 'in3_1'))\n",
    "        print(x.get_shape())\n",
    "        x = relu(instance_norm(deconv_2d(x, [32, 28, 28, 64], kernel_size=4, strides=[1, 2, 2, 1], \n",
    "                                        name='gen_us_deconv2'), 'in3_2'))\n",
    "        print(x.get_shape())\n",
    "        x = tanh(deconv_2d(x, [32, 28, 28, 1], kernel_size=7, strides=[1, 1, 1, 1], \n",
    "                          name='gen_us_dwconv3'))\n",
    "        print(x.get_shape())\n",
    "        \n",
    "        return x"
   ]
  },
  {
   "cell_type": "code",
   "execution_count": 9,
   "metadata": {
    "collapsed": true
   },
   "outputs": [],
   "source": [
    "real_image = tf.placeholder(dtype=tf.float32, shape=[None, 784])\n",
    "real_labels = tf.placeholder(dtype=tf.float32, shape=[None, c_dim])\n",
    "fake_labels = tf.placeholder(dtype=tf.float32, shape=[None, c_dim])\n",
    "alpha = tf.placeholder(dtype=tf.float32, shape=[None, 1])"
   ]
  },
  {
   "cell_type": "code",
   "execution_count": 10,
   "metadata": {},
   "outputs": [
    {
     "name": "stdout",
     "output_type": "stream",
     "text": [
      "fake_img\n",
      "(32, 28, 28, 11)\n",
      "(32, 28, 28, 64)\n",
      "(32, 14, 14, 128)\n",
      "(32, 7, 7, 256)\n",
      "(32, 7, 7, 256)\n",
      "(32, 7, 7, 256)\n",
      "(32, 7, 7, 256)\n",
      "(32, 14, 14, 128)\n",
      "(32, 28, 28, 64)\n",
      "(32, 28, 28, 1)\n",
      "real_disc\n",
      "(?, 28, 28, 1)\n",
      "(?, 14, 14, 64)\n",
      "(?, 7, 7, 128)\n",
      "(?, 4, 4, 256)\n",
      "(?, 4, 4, 11)\n",
      "(?, 11)\n",
      "fake_disc\n",
      "(32, 28, 28, 1)\n",
      "(32, 14, 14, 64)\n",
      "(32, 7, 7, 128)\n",
      "(32, 4, 4, 256)\n",
      "(32, 4, 4, 11)\n",
      "(32, 11)\n",
      "rec_image\n",
      "(32, 28, 28, 11)\n",
      "(32, 28, 28, 64)\n",
      "(32, 14, 14, 128)\n",
      "(32, 7, 7, 256)\n",
      "(32, 7, 7, 256)\n",
      "(32, 7, 7, 256)\n",
      "(32, 7, 7, 256)\n",
      "(32, 14, 14, 128)\n",
      "(32, 28, 28, 64)\n",
      "(32, 28, 28, 1)\n",
      "interpolated\n",
      "disc_int\n",
      "(25088, 28, 28, 1)\n",
      "(25088, 14, 14, 64)\n",
      "(25088, 7, 7, 128)\n",
      "(25088, 4, 4, 256)\n",
      "(25088, 4, 4, 11)\n",
      "(25088, 11)\n"
     ]
    }
   ],
   "source": [
    "print('fake_img')\n",
    "fake_image = generator(real_image, fake_labels, False)\n",
    "print('real_disc')\n",
    "real_disc, real_class = discriminator(real_image)\n",
    "print('fake_disc')\n",
    "fake_disc, fake_class = discriminator(fake_image, True)\n",
    "print('rec_image')\n",
    "rec_image = generator(fake_image, real_labels, True)\n",
    "print('interpolated')\n",
    "interpolated = alpha * real_image + (1 - alpha) * fake_image\n",
    "print('disc_int')\n",
    "int_disc, int_cls = discriminator(interpolated, True)"
   ]
  },
  {
   "cell_type": "code",
   "execution_count": 11,
   "metadata": {
    "collapsed": true
   },
   "outputs": [],
   "source": [
    "gen_loss_fake = tf.reduce_mean(fake_disc)\n",
    "gen_loss_rec = tf.reduce_mean(tf.abs(real_image - rec_image))\n",
    "gen_loss_class = tf.reduce_mean(tf.nn.sigmoid_cross_entropy_with_logits(logits=fake_class, labels=fake_labels))\n",
    "\n",
    "gen_loss = gen_loss_fake + lamda_rec * gen_loss_rec + lamda_cls * gen_loss_class"
   ]
  },
  {
   "cell_type": "code",
   "execution_count": 12,
   "metadata": {
    "collapsed": true
   },
   "outputs": [],
   "source": [
    "disc_loss_real = tf.reduce_mean(real_disc)\n",
    "disc_loss_cls = tf.reduce_mean(tf.nn.sigmoid_cross_entropy_with_logits(logits=real_class, labels=real_labels))\n",
    "disc_loss_fake = tf.reduce_mean(fake_disc)\n",
    "\n",
    "grads = tf.gradients(int_disc, [interpolated])[0]\n",
    "slopes = tf.sqrt(tf.reduce_sum(tf.square(grads), axis=[1,]))\n",
    "grad_penalty = tf.reduce_mean(tf.square(slopes - 1.))\n",
    "    \n",
    "disc_loss = disc_loss_real + disc_loss_fake + 10 * grad_penalty + lamda_cls * disc_loss_cls"
   ]
  },
  {
   "cell_type": "code",
   "execution_count": 13,
   "metadata": {
    "collapsed": true
   },
   "outputs": [],
   "source": [
    "def generate_fake_label(batch_size):\n",
    "    idx = np.random.randint(0, 10)\n",
    "    c = np.zeros([batch_size, c_dim])\n",
    "    c[range(batch_size), idx] = 1\n",
    "    print(c.shape)\n",
    "    return c"
   ]
  },
  {
   "cell_type": "code",
   "execution_count": 14,
   "metadata": {
    "collapsed": true
   },
   "outputs": [],
   "source": [
    "def get_alpha(batch_size):\n",
    "    return np.random.rand(batch_size, 1)"
   ]
  },
  {
   "cell_type": "code",
   "execution_count": 15,
   "metadata": {
    "collapsed": true
   },
   "outputs": [],
   "source": [
    "all_vars = tf.trainable_variables()\n",
    "generator_vars = [var for var in all_vars if var.name.startswith('gen')]\n",
    "discriminator_vars = [var for var in all_vars if var.name.startswith('disc')]\n",
    "\n",
    "g_optim = tf.train.AdamOptimizer(0.001).minimize(gen_loss, var_list=generator_vars)\n",
    "\n",
    "d_optim = tf.train.AdamOptimizer(0.001).minimize(disc_loss, var_list=discriminator_vars)"
   ]
  },
  {
   "cell_type": "code",
   "execution_count": null,
   "metadata": {
    "collapsed": true
   },
   "outputs": [],
   "source": [
    "init = tf.global_variables_initializer()\n",
    "sess = tf.InteractiveSession()\n",
    "\n",
    "sess.run(init)"
   ]
  },
  {
   "cell_type": "code",
   "execution_count": null,
   "metadata": {},
   "outputs": [
    {
     "name": "stdout",
     "output_type": "stream",
     "text": [
      "(32, 10)\n"
     ]
    }
   ],
   "source": [
    "for epoch in range(10):\n",
    "    for it in range(50000 // 32):\n",
    "        for i in range(d_steps):\n",
    "            x_batch, y_batch = mnist.train.next_batch(32)\n",
    "            _, d_loss = sess.run([d_optim, disc_loss], feed_dict={\n",
    "                real_image: x_batch,\n",
    "                real_labels: y_batch,\n",
    "                fake_labels: generate_fake_label(32),\n",
    "                alpha: get_alpha(32)\n",
    "            })\n",
    "            \n",
    "        x_batch, y_batch = mnist.train.next_batch(32)\n",
    "        _, g_loss = sess.run([g_optim, gen_loss], feed_dict={\n",
    "            real_image: x_batch,\n",
    "            real_labels: y_batch,\n",
    "            fake_labels: generate_fake_label(32),\n",
    "        })\n",
    "        if it % 100 == 0:\n",
    "            print('Epoch: {}, Iteration: {}: G: {} ; D: {}'.format(epoch, it, g_loss, d_loss))\n",
    "        \n",
    "\n",
    "            if it % 1000 == 0:\n",
    "                x_batch, y_batch = mnist.train.next_batch(16)\n",
    "        \n",
    "                c = generate_fake_label(16)\n",
    "                print(c[0])\n",
    "                samples = sess.run(fake_image, feed_dict={\n",
    "                    real_image: x_batch,\n",
    "                    fake_labels: c\n",
    "                })\n",
    "\n",
    "                fig = plot_images(samples)\n",
    "                plot.show()\n",
    "                plot.close(fig)\n"
   ]
  },
  {
   "cell_type": "code",
   "execution_count": null,
   "metadata": {
    "collapsed": true
   },
   "outputs": [],
   "source": []
  }
 ],
 "metadata": {
  "kernelspec": {
   "display_name": "Python 3",
   "language": "python",
   "name": "python3"
  },
  "language_info": {
   "codemirror_mode": {
    "name": "ipython",
    "version": 3
   },
   "file_extension": ".py",
   "mimetype": "text/x-python",
   "name": "python",
   "nbconvert_exporter": "python",
   "pygments_lexer": "ipython3",
   "version": "3.5.2"
  }
 },
 "nbformat": 4,
 "nbformat_minor": 2
}
