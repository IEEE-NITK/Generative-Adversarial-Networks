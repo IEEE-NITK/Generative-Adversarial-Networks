{
  "nbformat": 4,
  "nbformat_minor": 0,
  "metadata": {
    "colab": {
      "name": "StarGAN.ipynb",
      "version": "0.3.2",
      "views": {},
      "default_view": {},
      "provenance": [],
      "toc_visible": true
    },
    "kernelspec": {
      "display_name": "Python 3",
      "language": "python",
      "name": "python3"
    },
    "accelerator": "GPU"
  },
  "cells": [
    {
      "metadata": {
        "id": "qc5rqdK42PPc",
        "colab_type": "code",
        "colab": {
          "autoexec": {
            "startup": false,
            "wait_interval": 0
          }
        }
      },
      "cell_type": "code",
      "source": [
        "import tensorflow as tf\n",
        "import numpy as np\n",
        "import matplotlib.gridspec as gridspec\n",
        "import matplotlib.pyplot as plot\n",
        "from tensorflow.examples.tutorials.mnist import input_data"
      ],
      "execution_count": 0,
      "outputs": []
    },
    {
      "metadata": {
        "id": "kZ-WhVwU2a1q",
        "colab_type": "code",
        "colab": {
          "autoexec": {
            "startup": false,
            "wait_interval": 0
          }
        }
      },
      "cell_type": "code",
      "source": [
        "def conv2d(x, output, kernel_size, strides, name=\"conv2d\"):\n",
        "    with tf.variable_scope(name):\n",
        "        w = tf.get_variable('w',\n",
        "                            [kernel_size, kernel_size, x.get_shape()[-1], output],\n",
        "                            initializer=tf.truncated_normal_initializer(stddev=0.02))\n",
        "        b = tf.get_variable('b',\n",
        "                            [output],\n",
        "                            initializer=tf.constant_initializer(0.0))\n",
        "\n",
        "        return tf.nn.conv2d(x, w, strides=strides, padding='SAME') + b\n",
        "\n",
        "\n",
        "def deconv_2d(x, output_shape, kernel_size, strides, name=\"deconv2d\"):\n",
        "    with tf.variable_scope(name):\n",
        "        w = tf.get_variable('w',\n",
        "                            [kernel_size, kernel_size, output_shape[-1], x.get_shape()[-1]],\n",
        "                            initializer=tf.truncated_normal_initializer(stddev=0.02))\n",
        "        b = tf.get_variable('b',\n",
        "                            [output_shape[-1]],\n",
        "                            initializer=tf.constant_initializer(0.0))\n",
        "\n",
        "        return tf.nn.conv2d_transpose(x, w,\n",
        "                                      output_shape=output_shape,\n",
        "                                      strides=strides,\n",
        "                                      padding='SAME') + b\n",
        "\n",
        "\n",
        "def instance_norm(x, name='instance_norm'):\n",
        "    with tf.variable_scope(name):\n",
        "        depth = x.get_shape()[-1]\n",
        "\n",
        "        scale = tf.get_variable('scale', [depth],\n",
        "                                initializer=tf.random_normal_initializer(1.0, 0.02,\n",
        "                                                                         dtype=tf.float32))\n",
        "        offset = tf.get_variable('offset', [depth],\n",
        "                                 initializer=tf.constant_initializer(0.0))\n",
        "\n",
        "        mean, variance = tf.nn.moments(x, axes=[1, 2], keep_dims=True)\n",
        "\n",
        "        epsilon = 1e-5\n",
        "        inv = tf.rsqrt(variance + epsilon)\n",
        "        normalized = (x - mean) * inv\n",
        "\n",
        "        return scale * normalized + offset\n",
        "\n",
        "\n",
        "def relu(x, name='relu'):\n",
        "    return tf.nn.relu(x)\n",
        "\n",
        "\n",
        "def lrelu(x, leak=0.02, name='lrelu'):\n",
        "    return tf.maximum(x, leak * x)\n",
        "\n",
        "\n",
        "def tanh(x, name='tanh'):\n",
        "    return tf.nn.tanh(x)"
      ],
      "execution_count": 0,
      "outputs": []
    },
    {
      "metadata": {
        "id": "aNPWL0Qx2PPk",
        "colab_type": "code",
        "colab": {
          "autoexec": {
            "startup": false,
            "wait_interval": 0
          }
        }
      },
      "cell_type": "code",
      "source": [
        "batch_size = 32\n",
        "X_dim = 784\n",
        "c_dim = 10\n",
        "h_dim = 1024\n",
        "d_steps = 5\n",
        "lamda_cls = 0.1\n",
        "lamda_rec = 0.1"
      ],
      "execution_count": 0,
      "outputs": []
    },
    {
      "metadata": {
        "id": "VmihQWX62PPo",
        "colab_type": "code",
        "colab": {
          "autoexec": {
            "startup": false,
            "wait_interval": 0
          },
          "output_extras": [
            {
              "item_id": 2
            }
          ],
          "base_uri": "https://localhost:8080/",
          "height": 85
        },
        "outputId": "e1c163b5-ca6d-4c5f-8a0d-361b4eaaa822",
        "executionInfo": {
          "status": "ok",
          "timestamp": 1517486024289,
          "user_tz": -330,
          "elapsed": 1399,
          "user": {
            "displayName": "Moksh Jain",
            "photoUrl": "//lh5.googleusercontent.com/-RNpy_toWUZ8/AAAAAAAAAAI/AAAAAAAATjI/cbN4qZabGzY/s50-c-k-no/photo.jpg",
            "userId": "105838040144756982551"
          }
        }
      },
      "cell_type": "code",
      "source": [
        "mnist = input_data.read_data_sets('../../MNIST_data/', one_hot=True)"
      ],
      "execution_count": 4,
      "outputs": [
        {
          "output_type": "stream",
          "text": [
            "Extracting ../../MNIST_data/train-images-idx3-ubyte.gz\n",
            "Extracting ../../MNIST_data/train-labels-idx1-ubyte.gz\n",
            "Extracting ../../MNIST_data/t10k-images-idx3-ubyte.gz\n",
            "Extracting ../../MNIST_data/t10k-labels-idx1-ubyte.gz\n"
          ],
          "name": "stdout"
        }
      ]
    },
    {
      "metadata": {
        "id": "4zsFf5q-2PPv",
        "colab_type": "code",
        "colab": {
          "autoexec": {
            "startup": false,
            "wait_interval": 0
          }
        }
      },
      "cell_type": "code",
      "source": [
        "def plot_images(samples):\n",
        "    fig = plot.figure(figsize=(8, 4))\n",
        "    gs = gridspec.GridSpec(8, 4)\n",
        "    gs.update(wspace=0.05, hspace=0.05)\n",
        "\n",
        "    for i, sample in enumerate(samples):\n",
        "        ax = plot.subplot(gs[i])\n",
        "        plot.axis('off')\n",
        "        ax.set_xticklabels([])\n",
        "        ax.set_yticklabels([])\n",
        "        ax.set_aspect('equal')\n",
        "        plot.imshow(sample.reshape(28, 28), cmap='Greys_r')\n",
        "\n",
        "    return fig"
      ],
      "execution_count": 0,
      "outputs": []
    },
    {
      "metadata": {
        "id": "Cbybh1YC2PP-",
        "colab_type": "code",
        "colab": {
          "autoexec": {
            "startup": false,
            "wait_interval": 0
          }
        }
      },
      "cell_type": "code",
      "source": [
        "def discriminator(x, reuse=False):\n",
        "    with tf.variable_scope(\"discriminator\"):\n",
        "        if reuse:\n",
        "            tf.get_variable_scope().reuse_variables()\n",
        "        else:\n",
        "            assert tf.get_variable_scope().reuse is False\n",
        "        \n",
        "        x = tf.reshape(x, [-1, 28, 28, 1])\n",
        "        \n",
        "        x = lrelu(conv2d(x, 64, kernel_size=4, strides=[1, 2, 2, 1], name='disc_conv_1'))\n",
        "        x = lrelu(conv2d(x, 128, kernel_size=4, strides=[1, 2, 2, 1], name='disc_conv_2'))\n",
        "        x = lrelu(conv2d(x, 256, kernel_size=4, strides=[1, 2, 2, 1], name='disc_conv_3'))\n",
        "        \n",
        "        x = conv2d(x, 1+10, kernel_size=1, strides=[1, 1, 1, 1], name='disc_conv_4')\n",
        "        x = tf.reshape(tf.reduce_mean(x,axis=[1, 2]), [-1, 1 + 10])\n",
        "        src = x[:,0]\n",
        "        cls = x[:,1:]\n",
        "        return src, cls"
      ],
      "execution_count": 0,
      "outputs": []
    },
    {
      "metadata": {
        "id": "hk97q7D_2PQC",
        "colab_type": "code",
        "colab": {
          "autoexec": {
            "startup": false,
            "wait_interval": 0
          }
        }
      },
      "cell_type": "code",
      "source": [
        "def generator(x, c, reuse=False):\n",
        "    with tf.variable_scope(\"generator\"):\n",
        "        if reuse:\n",
        "            tf.get_variable_scope().reuse_variables()\n",
        "        else:\n",
        "            assert tf.get_variable_scope().reuse is False\n",
        "        \n",
        "        c = tf.tile(tf.reshape(c, [32, 1, 1, 10]), multiples=[1, 28, 28, 1])\n",
        "        x = tf.reshape(x, [32, 28, 28, 1])\n",
        "        x = tf.concat([x, c], axis=3)\n",
        "        \n",
        "        x = relu(instance_norm(conv2d(x, 64, kernel_size=7, strides=[1, 1, 1, 1], \n",
        "                                      name='gen_ds_conv1'), 'in1_1'))\n",
        "        x = relu(instance_norm(conv2d(x, 128, kernel_size=4,strides=[1, 2, 2, 1], \n",
        "                                      name='gen_ds_conv2'), 'in1_2'))\n",
        "        x = relu(instance_norm(conv2d(x, 256, kernel_size=4, strides=[1, 2, 2, 1], \n",
        "                                      name='gen_ds_conv3'), 'in1_3'))\n",
        "        \n",
        "        x = relu(instance_norm(conv2d(x, 256, kernel_size=3, strides=[1, 1, 1, 1], \n",
        "                                      name='gen_bn_conv1'), 'in2_1'))\n",
        "        x = relu(instance_norm(conv2d(x, 256, kernel_size=3, strides=[1, 1, 1, 1], \n",
        "                                      name='gen_bn_conv2'), 'in2_2'))\n",
        "        x = relu(instance_norm(conv2d(x, 256, kernel_size=3, strides=[1, 1, 1, 1], \n",
        "                                      name='gen_bn_conv3'), 'in2_3'))\n",
        "        \n",
        "        x = relu(instance_norm(deconv_2d(x, [32, 14, 14, 128], kernel_size=4, strides=[1, 2, 2, 1], \n",
        "                                        name='gen_us_deconv1'), 'in3_1'))\n",
        "        x = relu(instance_norm(deconv_2d(x, [32, 28, 28, 64], kernel_size=4, strides=[1, 2, 2, 1], \n",
        "                                        name='gen_us_deconv2'), 'in3_2'))\n",
        "        x = tanh(deconv_2d(x, [32, 28, 28, 1], kernel_size=7, strides=[1, 1, 1, 1], \n",
        "                          name='gen_us_deconv3'))\n",
        "        \n",
        "        return x"
      ],
      "execution_count": 0,
      "outputs": []
    },
    {
      "metadata": {
        "id": "B-vFBrio2PQH",
        "colab_type": "code",
        "colab": {
          "autoexec": {
            "startup": false,
            "wait_interval": 0
          }
        }
      },
      "cell_type": "code",
      "source": [
        "real_image = tf.placeholder(dtype=tf.float32, shape=[None, 784])\n",
        "real_labels = tf.placeholder(dtype=tf.float32, shape=[None, c_dim])\n",
        "fake_labels = tf.placeholder(dtype=tf.float32, shape=[None, c_dim])\n",
        "alpha = tf.placeholder(dtype=tf.float32, shape=[None, 1, 1, 1])"
      ],
      "execution_count": 0,
      "outputs": []
    },
    {
      "metadata": {
        "id": "4dalqCGA2PQL",
        "colab_type": "code",
        "colab": {
          "autoexec": {
            "startup": false,
            "wait_interval": 0
          }
        }
      },
      "cell_type": "code",
      "source": [
        "fake_image = generator(real_image, fake_labels, False)\n",
        "real_disc, real_class = discriminator(real_image)\n",
        "fake_disc, fake_class = discriminator(fake_image, True)\n",
        "rec_image = generator(fake_image, real_labels, True)\n",
        "\n",
        "interpolated = alpha * tf.reshape(real_image, [32, 28, 28, 1]) + (1 - alpha) * fake_image\n",
        "int_disc, int_cls = discriminator(interpolated, True)"
      ],
      "execution_count": 0,
      "outputs": []
    },
    {
      "metadata": {
        "id": "lYIj70i22PQY",
        "colab_type": "code",
        "colab": {
          "autoexec": {
            "startup": false,
            "wait_interval": 0
          }
        }
      },
      "cell_type": "code",
      "source": [
        "gen_loss_fake = tf.reduce_mean(fake_disc)\n",
        "gen_loss_rec = tf.reduce_mean(tf.abs(tf.reshape(real_image, [32, 28, 28, 1]) - rec_image))\n",
        "gen_loss_class = tf.reduce_mean(tf.nn.sigmoid_cross_entropy_with_logits(logits=fake_class, labels=fake_labels))\n",
        "\n",
        "gen_loss = gen_loss_fake + lamda_rec * gen_loss_rec + lamda_cls * gen_loss_class"
      ],
      "execution_count": 0,
      "outputs": []
    },
    {
      "metadata": {
        "id": "dvQfQ8Ff2PQe",
        "colab_type": "code",
        "colab": {
          "autoexec": {
            "startup": false,
            "wait_interval": 0
          }
        }
      },
      "cell_type": "code",
      "source": [
        "disc_loss_real = tf.reduce_mean(real_disc)\n",
        "disc_loss_cls = tf.reduce_mean(tf.nn.sigmoid_cross_entropy_with_logits(logits=real_class, labels=real_labels))\n",
        "disc_loss_fake = tf.reduce_mean(fake_disc)\n",
        "\n",
        "grads = tf.gradients(int_disc, [interpolated])[0]\n",
        "slopes = tf.sqrt(tf.reduce_sum(tf.square(grads), axis=[1,]))\n",
        "grad_penalty = tf.reduce_mean(tf.square(slopes - 1.))\n",
        "    \n",
        "disc_loss = disc_loss_real + disc_loss_fake + 10 * grad_penalty + lamda_cls * disc_loss_cls"
      ],
      "execution_count": 0,
      "outputs": []
    },
    {
      "metadata": {
        "id": "5-n-lE782PQo",
        "colab_type": "code",
        "colab": {
          "autoexec": {
            "startup": false,
            "wait_interval": 0
          }
        }
      },
      "cell_type": "code",
      "source": [
        "def generate_fake_label(batch_size):\n",
        "    idx = np.random.randint(0, 10)\n",
        "    c = np.zeros([batch_size, c_dim])\n",
        "    c[range(batch_size), idx] = 1\n",
        "    return c"
      ],
      "execution_count": 0,
      "outputs": []
    },
    {
      "metadata": {
        "id": "5C85NB8T2PQu",
        "colab_type": "code",
        "colab": {
          "autoexec": {
            "startup": false,
            "wait_interval": 0
          }
        }
      },
      "cell_type": "code",
      "source": [
        "def get_alpha(batch_size):\n",
        "    return np.reshape(np.random.rand(batch_size, 1), [batch_size, 1, 1, 1])"
      ],
      "execution_count": 0,
      "outputs": []
    },
    {
      "metadata": {
        "id": "L2um-zMa2PQ2",
        "colab_type": "code",
        "colab": {
          "autoexec": {
            "startup": false,
            "wait_interval": 0
          }
        }
      },
      "cell_type": "code",
      "source": [
        "all_vars = tf.trainable_variables()\n",
        "generator_vars = [var for var in all_vars if var.name.startswith('gen')]\n",
        "discriminator_vars = [var for var in all_vars if var.name.startswith('disc')]\n",
        "\n",
        "g_optim = tf.train.AdamOptimizer(0.001).minimize(gen_loss, var_list=generator_vars)\n",
        "\n",
        "d_optim = tf.train.AdamOptimizer(0.001).minimize(disc_loss, var_list=discriminator_vars)"
      ],
      "execution_count": 0,
      "outputs": []
    },
    {
      "metadata": {
        "id": "3_iQedRY2PQ7",
        "colab_type": "code",
        "colab": {
          "autoexec": {
            "startup": false,
            "wait_interval": 0
          }
        }
      },
      "cell_type": "code",
      "source": [
        "init = tf.global_variables_initializer()\n",
        "sess = tf.Session()\n",
        "\n",
        "sess.run(init)"
      ],
      "execution_count": 0,
      "outputs": []
    },
    {
      "metadata": {
        "id": "yU_Uupm82PRA",
        "colab_type": "code",
        "colab": {
          "autoexec": {
            "startup": false,
            "wait_interval": 0
          },
          "output_extras": [
            {
              "item_id": 1
            },
            {
              "item_id": 2
            },
            {
              "item_id": 4
            },
            {
              "item_id": 5
            }
          ],
          "base_uri": "https://localhost:8080/",
          "height": 1145
        },
        "outputId": "7ffc8075-36c3-46ed-9347-77e977b99f71",
        "executionInfo": {
          "status": "error",
          "timestamp": 1517486114115,
          "user_tz": -330,
          "elapsed": 75296,
          "user": {
            "displayName": "Moksh Jain",
            "photoUrl": "//lh5.googleusercontent.com/-RNpy_toWUZ8/AAAAAAAAAAI/AAAAAAAATjI/cbN4qZabGzY/s50-c-k-no/photo.jpg",
            "userId": "105838040144756982551"
          }
        }
      },
      "cell_type": "code",
      "source": [
        "for epoch in range(10):\n",
        "    for it in range(50000 // 32):\n",
        "        for i in range(d_steps):\n",
        "            x_batch, y_batch = mnist.train.next_batch(32)\n",
        "            _, d_loss = sess.run([d_optim, disc_loss], feed_dict={\n",
        "                real_image: x_batch,\n",
        "                real_labels: y_batch,\n",
        "                fake_labels: generate_fake_label(32),\n",
        "                alpha: get_alpha(32)\n",
        "            })\n",
        "\n",
        "        x_batch, y_batch = mnist.train.next_batch(32)\n",
        "        _, g_loss = sess.run([g_optim, gen_loss], feed_dict={\n",
        "            real_image: x_batch,\n",
        "            real_labels: y_batch,\n",
        "            fake_labels: generate_fake_label(32),\n",
        "        })\n",
        "        if it % 100 == 0:\n",
        "            print('Epoch: {}, Iteration: {}: G: {} ; D: {}'.format(epoch, it, g_loss, d_loss))\n",
        "        \n",
        "\n",
        "            if it % 1000 == 0:\n",
        "                x_batch, y_batch = mnist.train.next_batch(32)\n",
        "        \n",
        "                c = generate_fake_label(32)\n",
        "                print(c[0])\n",
        "                samples = sess.run(fake_image, feed_dict={\n",
        "                    real_image: x_batch,\n",
        "                    fake_labels: c\n",
        "                })\n",
        "\n",
        "                fig = plot_images(samples)\n",
        "                plot.show()\n",
        "                plot.close(fig)\n"
      ],
      "execution_count": 16,
      "outputs": [
        {
          "output_type": "stream",
          "text": [
            "Epoch: 0, Iteration: 0: G: -0.685685932636261 ; D: 9.329577445983887\n",
            "[0. 0. 0. 0. 0. 0. 0. 0. 1. 0.]\n"
          ],
          "name": "stdout"
        },
        {
          "output_type": "display_data",
          "data": {
            "image/png": "[encoded data removed]",
            "text/plain": [
              "<matplotlib.figure.Figure at 0x7efc4204ea58>"
            ]
          },
          "metadata": {
            "tags": []
          }
        },
        {
          "output_type": "stream",
          "text": [
            "Epoch: 0, Iteration: 100: G: -103577536.0 ; D: -200147120.0\n",
            "Epoch: 0, Iteration: 200: G: -989013952.0 ; D: -1839829504.0\n"
          ],
          "name": "stdout"
        },
        {
          "output_type": "error",
          "ename": "KeyboardInterrupt",
          "evalue": "ignored",
          "traceback": [
            "\u001b[0;31m---------------------------------------------------------------------------\u001b[0m",
            "\u001b[0;31mKeyboardInterrupt\u001b[0m                         Traceback (most recent call last)",
            "\u001b[0;32m<ipython-input-16-167665d115e5>\u001b[0m in \u001b[0;36m<module>\u001b[0;34m()\u001b[0m\n\u001b[1;32m      7\u001b[0m                 \u001b[0mreal_labels\u001b[0m\u001b[0;34m:\u001b[0m \u001b[0my_batch\u001b[0m\u001b[0;34m,\u001b[0m\u001b[0;34m\u001b[0m\u001b[0m\n\u001b[1;32m      8\u001b[0m                 \u001b[0mfake_labels\u001b[0m\u001b[0;34m:\u001b[0m \u001b[0mgenerate_fake_label\u001b[0m\u001b[0;34m(\u001b[0m\u001b[0;36m32\u001b[0m\u001b[0;34m)\u001b[0m\u001b[0;34m,\u001b[0m\u001b[0;34m\u001b[0m\u001b[0m\n\u001b[0;32m----> 9\u001b[0;31m                 \u001b[0malpha\u001b[0m\u001b[0;34m:\u001b[0m \u001b[0mget_alpha\u001b[0m\u001b[0;34m(\u001b[0m\u001b[0;36m32\u001b[0m\u001b[0;34m)\u001b[0m\u001b[0;34m\u001b[0m\u001b[0m\n\u001b[0m\u001b[1;32m     10\u001b[0m             })\n\u001b[1;32m     11\u001b[0m \u001b[0;34m\u001b[0m\u001b[0m\n",
            "\u001b[0;32m/usr/local/lib/python3.6/dist-packages/tensorflow/python/client/session.py\u001b[0m in \u001b[0;36mrun\u001b[0;34m(self, fetches, feed_dict, options, run_metadata)\u001b[0m\n\u001b[1;32m    887\u001b[0m     \u001b[0;32mtry\u001b[0m\u001b[0;34m:\u001b[0m\u001b[0;34m\u001b[0m\u001b[0m\n\u001b[1;32m    888\u001b[0m       result = self._run(None, fetches, feed_dict, options_ptr,\n\u001b[0;32m--> 889\u001b[0;31m                          run_metadata_ptr)\n\u001b[0m\u001b[1;32m    890\u001b[0m       \u001b[0;32mif\u001b[0m \u001b[0mrun_metadata\u001b[0m\u001b[0;34m:\u001b[0m\u001b[0;34m\u001b[0m\u001b[0m\n\u001b[1;32m    891\u001b[0m         \u001b[0mproto_data\u001b[0m \u001b[0;34m=\u001b[0m \u001b[0mtf_session\u001b[0m\u001b[0;34m.\u001b[0m\u001b[0mTF_GetBuffer\u001b[0m\u001b[0;34m(\u001b[0m\u001b[0mrun_metadata_ptr\u001b[0m\u001b[0;34m)\u001b[0m\u001b[0;34m\u001b[0m\u001b[0m\n",
            "\u001b[0;32m/usr/local/lib/python3.6/dist-packages/tensorflow/python/client/session.py\u001b[0m in \u001b[0;36m_run\u001b[0;34m(self, handle, fetches, feed_dict, options, run_metadata)\u001b[0m\n\u001b[1;32m   1118\u001b[0m     \u001b[0;32mif\u001b[0m \u001b[0mfinal_fetches\u001b[0m \u001b[0;32mor\u001b[0m \u001b[0mfinal_targets\u001b[0m \u001b[0;32mor\u001b[0m \u001b[0;34m(\u001b[0m\u001b[0mhandle\u001b[0m \u001b[0;32mand\u001b[0m \u001b[0mfeed_dict_tensor\u001b[0m\u001b[0;34m)\u001b[0m\u001b[0;34m:\u001b[0m\u001b[0;34m\u001b[0m\u001b[0m\n\u001b[1;32m   1119\u001b[0m       results = self._do_run(handle, final_targets, final_fetches,\n\u001b[0;32m-> 1120\u001b[0;31m                              feed_dict_tensor, options, run_metadata)\n\u001b[0m\u001b[1;32m   1121\u001b[0m     \u001b[0;32melse\u001b[0m\u001b[0;34m:\u001b[0m\u001b[0;34m\u001b[0m\u001b[0m\n\u001b[1;32m   1122\u001b[0m       \u001b[0mresults\u001b[0m \u001b[0;34m=\u001b[0m \u001b[0;34m[\u001b[0m\u001b[0;34m]\u001b[0m\u001b[0;34m\u001b[0m\u001b[0m\n",
            "\u001b[0;32m/usr/local/lib/python3.6/dist-packages/tensorflow/python/client/session.py\u001b[0m in \u001b[0;36m_do_run\u001b[0;34m(self, handle, target_list, fetch_list, feed_dict, options, run_metadata)\u001b[0m\n\u001b[1;32m   1315\u001b[0m     \u001b[0;32mif\u001b[0m \u001b[0mhandle\u001b[0m \u001b[0;32mis\u001b[0m \u001b[0;32mNone\u001b[0m\u001b[0;34m:\u001b[0m\u001b[0;34m\u001b[0m\u001b[0m\n\u001b[1;32m   1316\u001b[0m       return self._do_call(_run_fn, self._session, feeds, fetches, targets,\n\u001b[0;32m-> 1317\u001b[0;31m                            options, run_metadata)\n\u001b[0m\u001b[1;32m   1318\u001b[0m     \u001b[0;32melse\u001b[0m\u001b[0;34m:\u001b[0m\u001b[0;34m\u001b[0m\u001b[0m\n\u001b[1;32m   1319\u001b[0m       \u001b[0;32mreturn\u001b[0m \u001b[0mself\u001b[0m\u001b[0;34m.\u001b[0m\u001b[0m_do_call\u001b[0m\u001b[0;34m(\u001b[0m\u001b[0m_prun_fn\u001b[0m\u001b[0;34m,\u001b[0m \u001b[0mself\u001b[0m\u001b[0;34m.\u001b[0m\u001b[0m_session\u001b[0m\u001b[0;34m,\u001b[0m \u001b[0mhandle\u001b[0m\u001b[0;34m,\u001b[0m \u001b[0mfeeds\u001b[0m\u001b[0;34m,\u001b[0m \u001b[0mfetches\u001b[0m\u001b[0;34m)\u001b[0m\u001b[0;34m\u001b[0m\u001b[0m\n",
            "\u001b[0;32m/usr/local/lib/python3.6/dist-packages/tensorflow/python/client/session.py\u001b[0m in \u001b[0;36m_do_call\u001b[0;34m(self, fn, *args)\u001b[0m\n\u001b[1;32m   1321\u001b[0m   \u001b[0;32mdef\u001b[0m \u001b[0m_do_call\u001b[0m\u001b[0;34m(\u001b[0m\u001b[0mself\u001b[0m\u001b[0;34m,\u001b[0m \u001b[0mfn\u001b[0m\u001b[0;34m,\u001b[0m \u001b[0;34m*\u001b[0m\u001b[0margs\u001b[0m\u001b[0;34m)\u001b[0m\u001b[0;34m:\u001b[0m\u001b[0;34m\u001b[0m\u001b[0m\n\u001b[1;32m   1322\u001b[0m     \u001b[0;32mtry\u001b[0m\u001b[0;34m:\u001b[0m\u001b[0;34m\u001b[0m\u001b[0m\n\u001b[0;32m-> 1323\u001b[0;31m       \u001b[0;32mreturn\u001b[0m \u001b[0mfn\u001b[0m\u001b[0;34m(\u001b[0m\u001b[0;34m*\u001b[0m\u001b[0margs\u001b[0m\u001b[0;34m)\u001b[0m\u001b[0;34m\u001b[0m\u001b[0m\n\u001b[0m\u001b[1;32m   1324\u001b[0m     \u001b[0;32mexcept\u001b[0m \u001b[0merrors\u001b[0m\u001b[0;34m.\u001b[0m\u001b[0mOpError\u001b[0m \u001b[0;32mas\u001b[0m \u001b[0me\u001b[0m\u001b[0;34m:\u001b[0m\u001b[0;34m\u001b[0m\u001b[0m\n\u001b[1;32m   1325\u001b[0m       \u001b[0mmessage\u001b[0m \u001b[0;34m=\u001b[0m \u001b[0mcompat\u001b[0m\u001b[0;34m.\u001b[0m\u001b[0mas_text\u001b[0m\u001b[0;34m(\u001b[0m\u001b[0me\u001b[0m\u001b[0;34m.\u001b[0m\u001b[0mmessage\u001b[0m\u001b[0;34m)\u001b[0m\u001b[0;34m\u001b[0m\u001b[0m\n",
            "\u001b[0;32m/usr/local/lib/python3.6/dist-packages/tensorflow/python/client/session.py\u001b[0m in \u001b[0;36m_run_fn\u001b[0;34m(session, feed_dict, fetch_list, target_list, options, run_metadata)\u001b[0m\n\u001b[1;32m   1300\u001b[0m           return tf_session.TF_Run(session, options,\n\u001b[1;32m   1301\u001b[0m                                    \u001b[0mfeed_dict\u001b[0m\u001b[0;34m,\u001b[0m \u001b[0mfetch_list\u001b[0m\u001b[0;34m,\u001b[0m \u001b[0mtarget_list\u001b[0m\u001b[0;34m,\u001b[0m\u001b[0;34m\u001b[0m\u001b[0m\n\u001b[0;32m-> 1302\u001b[0;31m                                    status, run_metadata)\n\u001b[0m\u001b[1;32m   1303\u001b[0m \u001b[0;34m\u001b[0m\u001b[0m\n\u001b[1;32m   1304\u001b[0m     \u001b[0;32mdef\u001b[0m \u001b[0m_prun_fn\u001b[0m\u001b[0;34m(\u001b[0m\u001b[0msession\u001b[0m\u001b[0;34m,\u001b[0m \u001b[0mhandle\u001b[0m\u001b[0;34m,\u001b[0m \u001b[0mfeed_dict\u001b[0m\u001b[0;34m,\u001b[0m \u001b[0mfetch_list\u001b[0m\u001b[0;34m)\u001b[0m\u001b[0;34m:\u001b[0m\u001b[0;34m\u001b[0m\u001b[0m\n",
            "\u001b[0;31mKeyboardInterrupt\u001b[0m: "
          ]
        }
      ]
    },
    {
      "metadata": {
        "id": "DmV3SmL32PRM",
        "colab_type": "code",
        "colab": {
          "autoexec": {
            "startup": false,
            "wait_interval": 0
          }
        }
      },
      "cell_type": "code",
      "source": [
        ""
      ],
      "execution_count": 0,
      "outputs": []
    }
  ]
}